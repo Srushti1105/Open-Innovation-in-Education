{
 "cells": [
  {
   "cell_type": "markdown",
   "metadata": {
    "id": "aP0GBWn4FuTi"
   },
   "source": [
    "# **Recommendation System**\n",
    "\n",
    "##### Leveraging state-of-the-art machine learning techniques to provide personalized and relevant recommendations to users aiming to enhance engagement and improve learning outcomes.\n"
   ]
  },
  {
   "cell_type": "markdown",
   "metadata": {},
   "source": [
    "#### Intel optimizations \n",
    "`patch_sklearn()` Enabling Intel Extension for Scikit-learn"
   ]
  },
  {
   "cell_type": "code",
   "execution_count": 2,
   "metadata": {
    "colab": {
     "base_uri": "https://localhost:8080/"
    },
    "id": "IVan-FTlFr3U",
    "outputId": "e31cbc17-a998-4d67-b182-e8b6d9b04fad"
   },
   "outputs": [
    {
     "name": "stdout",
     "output_type": "stream",
     "text": [
      "Requirement already satisfied: langdetect in /usr/local/lib/python3.10/dist-packages (1.0.9)\n",
      "Requirement already satisfied: six in /usr/local/lib/python3.10/dist-packages (from langdetect) (1.16.0)\n",
      "Requirement already satisfied: modin[all] in /usr/local/lib/python3.10/dist-packages (0.22.2)\n",
      "Requirement already satisfied: pandas==1.5.3 in /usr/local/lib/python3.10/dist-packages (from modin[all]) (1.5.3)\n",
      "Requirement already satisfied: packaging in /usr/local/lib/python3.10/dist-packages (from modin[all]) (23.1)\n",
      "Requirement already satisfied: numpy>=1.18.5 in /usr/local/lib/python3.10/dist-packages (from modin[all]) (1.22.4)\n",
      "Requirement already satisfied: fsspec in /usr/local/lib/python3.10/dist-packages (from modin[all]) (2023.6.0)\n",
      "Requirement already satisfied: psutil in /usr/local/lib/python3.10/dist-packages (from modin[all]) (5.9.5)\n",
      "Requirement already satisfied: dask>=2.22.0 in /usr/local/lib/python3.10/dist-packages (from modin[all]) (2022.12.1)\n",
      "Requirement already satisfied: distributed>=2.22.0 in /usr/local/lib/python3.10/dist-packages (from modin[all]) (2022.12.1)\n",
      "Requirement already satisfied: ray[default]>=1.13.0 in /usr/local/lib/python3.10/dist-packages (from modin[all]) (2.5.1)\n",
      "Requirement already satisfied: pyarrow in /usr/local/lib/python3.10/dist-packages (from modin[all]) (9.0.0)\n",
      "Requirement already satisfied: unidist[mpi]>=0.2.1 in /usr/local/lib/python3.10/dist-packages (from modin[all]) (0.3.0)\n",
      "Requirement already satisfied: rpyc==4.1.5 in /usr/local/lib/python3.10/dist-packages (from modin[all]) (4.1.5)\n",
      "Requirement already satisfied: cloudpickle in /usr/local/lib/python3.10/dist-packages (from modin[all]) (2.2.1)\n",
      "Requirement already satisfied: boto3 in /usr/local/lib/python3.10/dist-packages (from modin[all]) (1.26.163)\n",
      "Requirement already satisfied: modin-spreadsheet>=0.1.0 in /usr/local/lib/python3.10/dist-packages (from modin[all]) (0.1.2)\n",
      "Requirement already satisfied: python-dateutil>=2.8.1 in /usr/local/lib/python3.10/dist-packages (from pandas==1.5.3->modin[all]) (2.8.2)\n",
      "Requirement already satisfied: pytz>=2020.1 in /usr/local/lib/python3.10/dist-packages (from pandas==1.5.3->modin[all]) (2022.7.1)\n",
      "Requirement already satisfied: plumbum in /usr/local/lib/python3.10/dist-packages (from rpyc==4.1.5->modin[all]) (1.8.2)\n",
      "Requirement already satisfied: click>=7.0 in /usr/local/lib/python3.10/dist-packages (from dask>=2.22.0->modin[all]) (8.1.3)\n",
      "Requirement already satisfied: partd>=0.3.10 in /usr/local/lib/python3.10/dist-packages (from dask>=2.22.0->modin[all]) (1.4.0)\n",
      "Requirement already satisfied: pyyaml>=5.3.1 in /usr/local/lib/python3.10/dist-packages (from dask>=2.22.0->modin[all]) (6.0)\n",
      "Requirement already satisfied: toolz>=0.8.2 in /usr/local/lib/python3.10/dist-packages (from dask>=2.22.0->modin[all]) (0.12.0)\n",
      "Requirement already satisfied: jinja2 in /usr/local/lib/python3.10/dist-packages (from distributed>=2.22.0->modin[all]) (3.1.2)\n",
      "Requirement already satisfied: locket>=1.0.0 in /usr/local/lib/python3.10/dist-packages (from distributed>=2.22.0->modin[all]) (1.0.0)\n",
      "Requirement already satisfied: msgpack>=0.6.0 in /usr/local/lib/python3.10/dist-packages (from distributed>=2.22.0->modin[all]) (1.0.5)\n",
      "Requirement already satisfied: sortedcontainers!=2.0.0,!=2.0.1 in /usr/local/lib/python3.10/dist-packages (from distributed>=2.22.0->modin[all]) (2.4.0)\n",
      "Requirement already satisfied: tblib>=1.6.0 in /usr/local/lib/python3.10/dist-packages (from distributed>=2.22.0->modin[all]) (2.0.0)\n",
      "Requirement already satisfied: tornado>=6.0.3 in /usr/local/lib/python3.10/dist-packages (from distributed>=2.22.0->modin[all]) (6.3.1)\n",
      "Requirement already satisfied: urllib3 in /usr/local/lib/python3.10/dist-packages (from distributed>=2.22.0->modin[all]) (1.26.16)\n",
      "Requirement already satisfied: zict>=0.1.3 in /usr/local/lib/python3.10/dist-packages (from distributed>=2.22.0->modin[all]) (3.0.0)\n",
      "Requirement already satisfied: jupyter>=1.0.0 in /usr/local/lib/python3.10/dist-packages (from modin-spreadsheet>=0.1.0->modin[all]) (1.0.0)\n",
      "Requirement already satisfied: notebook>=6.0.3 in /usr/local/lib/python3.10/dist-packages (from modin-spreadsheet>=0.1.0->modin[all]) (6.4.8)\n",
      "Requirement already satisfied: ipywidgets>=7.0.0 in /usr/local/lib/python3.10/dist-packages (from modin-spreadsheet>=0.1.0->modin[all]) (7.7.1)\n",
      "Requirement already satisfied: attrs in /usr/local/lib/python3.10/dist-packages (from ray[default]>=1.13.0->modin[all]) (23.1.0)\n",
      "Requirement already satisfied: filelock in /usr/local/lib/python3.10/dist-packages (from ray[default]>=1.13.0->modin[all]) (3.12.2)\n",
      "Requirement already satisfied: jsonschema in /usr/local/lib/python3.10/dist-packages (from ray[default]>=1.13.0->modin[all]) (4.3.3)\n",
      "Requirement already satisfied: protobuf!=3.19.5,>=3.15.3 in /usr/local/lib/python3.10/dist-packages (from ray[default]>=1.13.0->modin[all]) (3.20.3)\n",
      "Requirement already satisfied: aiosignal in /usr/local/lib/python3.10/dist-packages (from ray[default]>=1.13.0->modin[all]) (1.3.1)\n",
      "Requirement already satisfied: frozenlist in /usr/local/lib/python3.10/dist-packages (from ray[default]>=1.13.0->modin[all]) (1.3.3)\n",
      "Requirement already satisfied: requests in /usr/local/lib/python3.10/dist-packages (from ray[default]>=1.13.0->modin[all]) (2.27.1)\n",
      "Requirement already satisfied: grpcio<=1.51.3,>=1.42.0 in /usr/local/lib/python3.10/dist-packages (from ray[default]>=1.13.0->modin[all]) (1.51.3)\n",
      "Requirement already satisfied: aiohttp>=3.7 in /usr/local/lib/python3.10/dist-packages (from ray[default]>=1.13.0->modin[all]) (3.8.4)\n",
      "Requirement already satisfied: aiohttp-cors in /usr/local/lib/python3.10/dist-packages (from ray[default]>=1.13.0->modin[all]) (0.7.0)\n",
      "Requirement already satisfied: colorful in /usr/local/lib/python3.10/dist-packages (from ray[default]>=1.13.0->modin[all]) (0.5.5)\n",
      "Requirement already satisfied: py-spy>=0.2.0 in /usr/local/lib/python3.10/dist-packages (from ray[default]>=1.13.0->modin[all]) (0.3.14)\n",
      "Requirement already satisfied: gpustat>=1.0.0 in /usr/local/lib/python3.10/dist-packages (from ray[default]>=1.13.0->modin[all]) (1.1)\n",
      "Requirement already satisfied: opencensus in /usr/local/lib/python3.10/dist-packages (from ray[default]>=1.13.0->modin[all]) (0.11.2)\n",
      "Requirement already satisfied: pydantic in /usr/local/lib/python3.10/dist-packages (from ray[default]>=1.13.0->modin[all]) (1.10.9)\n",
      "Requirement already satisfied: prometheus-client>=0.7.1 in /usr/local/lib/python3.10/dist-packages (from ray[default]>=1.13.0->modin[all]) (0.17.0)\n",
      "Requirement already satisfied: smart-open in /usr/local/lib/python3.10/dist-packages (from ray[default]>=1.13.0->modin[all]) (6.3.0)\n",
      "Requirement already satisfied: virtualenv<20.21.1,>=20.0.24 in /usr/local/lib/python3.10/dist-packages (from ray[default]>=1.13.0->modin[all]) (20.21.0)\n",
      "Requirement already satisfied: mpi4py-mpich in /usr/local/lib/python3.10/dist-packages (from unidist[mpi]>=0.2.1->modin[all]) (3.1.2)\n",
      "Requirement already satisfied: botocore<1.30.0,>=1.29.163 in /usr/local/lib/python3.10/dist-packages (from boto3->modin[all]) (1.29.163)\n",
      "Requirement already satisfied: jmespath<2.0.0,>=0.7.1 in /usr/local/lib/python3.10/dist-packages (from boto3->modin[all]) (1.0.1)\n",
      "Requirement already satisfied: s3transfer<0.7.0,>=0.6.0 in /usr/local/lib/python3.10/dist-packages (from boto3->modin[all]) (0.6.1)\n",
      "Requirement already satisfied: charset-normalizer<4.0,>=2.0 in /usr/local/lib/python3.10/dist-packages (from aiohttp>=3.7->ray[default]>=1.13.0->modin[all]) (2.0.12)\n",
      "Requirement already satisfied: multidict<7.0,>=4.5 in /usr/local/lib/python3.10/dist-packages (from aiohttp>=3.7->ray[default]>=1.13.0->modin[all]) (6.0.4)\n",
      "Requirement already satisfied: async-timeout<5.0,>=4.0.0a3 in /usr/local/lib/python3.10/dist-packages (from aiohttp>=3.7->ray[default]>=1.13.0->modin[all]) (4.0.2)\n",
      "Requirement already satisfied: yarl<2.0,>=1.0 in /usr/local/lib/python3.10/dist-packages (from aiohttp>=3.7->ray[default]>=1.13.0->modin[all]) (1.9.2)\n",
      "Requirement already satisfied: nvidia-ml-py>=11.450.129 in /usr/local/lib/python3.10/dist-packages (from gpustat>=1.0.0->ray[default]>=1.13.0->modin[all]) (11.525.112)\n",
      "Requirement already satisfied: blessed>=1.17.1 in /usr/local/lib/python3.10/dist-packages (from gpustat>=1.0.0->ray[default]>=1.13.0->modin[all]) (1.20.0)\n",
      "Requirement already satisfied: ipykernel>=4.5.1 in /usr/local/lib/python3.10/dist-packages (from ipywidgets>=7.0.0->modin-spreadsheet>=0.1.0->modin[all]) (5.5.6)\n",
      "Requirement already satisfied: ipython-genutils~=0.2.0 in /usr/local/lib/python3.10/dist-packages (from ipywidgets>=7.0.0->modin-spreadsheet>=0.1.0->modin[all]) (0.2.0)\n",
      "Requirement already satisfied: traitlets>=4.3.1 in /usr/local/lib/python3.10/dist-packages (from ipywidgets>=7.0.0->modin-spreadsheet>=0.1.0->modin[all]) (5.7.1)\n",
      "Requirement already satisfied: widgetsnbextension~=3.6.0 in /usr/local/lib/python3.10/dist-packages (from ipywidgets>=7.0.0->modin-spreadsheet>=0.1.0->modin[all]) (3.6.4)\n",
      "Requirement already satisfied: ipython>=4.0.0 in /usr/local/lib/python3.10/dist-packages (from ipywidgets>=7.0.0->modin-spreadsheet>=0.1.0->modin[all]) (7.34.0)\n",
      "Requirement already satisfied: jupyterlab-widgets>=1.0.0 in /usr/local/lib/python3.10/dist-packages (from ipywidgets>=7.0.0->modin-spreadsheet>=0.1.0->modin[all]) (3.0.7)\n",
      "Requirement already satisfied: qtconsole in /usr/local/lib/python3.10/dist-packages (from jupyter>=1.0.0->modin-spreadsheet>=0.1.0->modin[all]) (5.4.3)\n",
      "Requirement already satisfied: jupyter-console in /usr/local/lib/python3.10/dist-packages (from jupyter>=1.0.0->modin-spreadsheet>=0.1.0->modin[all]) (6.1.0)\n",
      "Requirement already satisfied: nbconvert in /usr/local/lib/python3.10/dist-packages (from jupyter>=1.0.0->modin-spreadsheet>=0.1.0->modin[all]) (6.5.4)\n",
      "Requirement already satisfied: pyzmq>=17 in /usr/local/lib/python3.10/dist-packages (from notebook>=6.0.3->modin-spreadsheet>=0.1.0->modin[all]) (23.2.1)\n",
      "Requirement already satisfied: argon2-cffi in /usr/local/lib/python3.10/dist-packages (from notebook>=6.0.3->modin-spreadsheet>=0.1.0->modin[all]) (21.3.0)\n",
      "Requirement already satisfied: jupyter-core>=4.6.1 in /usr/local/lib/python3.10/dist-packages (from notebook>=6.0.3->modin-spreadsheet>=0.1.0->modin[all]) (5.3.1)\n",
      "Requirement already satisfied: jupyter-client>=5.3.4 in /usr/local/lib/python3.10/dist-packages (from notebook>=6.0.3->modin-spreadsheet>=0.1.0->modin[all]) (6.1.12)\n",
      "Requirement already satisfied: nbformat in /usr/local/lib/python3.10/dist-packages (from notebook>=6.0.3->modin-spreadsheet>=0.1.0->modin[all]) (5.9.0)\n",
      "Requirement already satisfied: nest-asyncio>=1.5 in /usr/local/lib/python3.10/dist-packages (from notebook>=6.0.3->modin-spreadsheet>=0.1.0->modin[all]) (1.5.6)\n",
      "Requirement already satisfied: Send2Trash>=1.8.0 in /usr/local/lib/python3.10/dist-packages (from notebook>=6.0.3->modin-spreadsheet>=0.1.0->modin[all]) (1.8.2)\n",
      "Requirement already satisfied: terminado>=0.8.3 in /usr/local/lib/python3.10/dist-packages (from notebook>=6.0.3->modin-spreadsheet>=0.1.0->modin[all]) (0.17.1)\n",
      "Requirement already satisfied: six>=1.5 in /usr/local/lib/python3.10/dist-packages (from python-dateutil>=2.8.1->pandas==1.5.3->modin[all]) (1.16.0)\n",
      "Requirement already satisfied: distlib<1,>=0.3.6 in /usr/local/lib/python3.10/dist-packages (from virtualenv<20.21.1,>=20.0.24->ray[default]>=1.13.0->modin[all]) (0.3.6)\n",
      "Requirement already satisfied: platformdirs<4,>=2.4 in /usr/local/lib/python3.10/dist-packages (from virtualenv<20.21.1,>=20.0.24->ray[default]>=1.13.0->modin[all]) (3.7.0)\n",
      "Requirement already satisfied: MarkupSafe>=2.0 in /usr/local/lib/python3.10/dist-packages (from jinja2->distributed>=2.22.0->modin[all]) (2.1.3)\n",
      "Requirement already satisfied: pyrsistent!=0.17.0,!=0.17.1,!=0.17.2,>=0.14.0 in /usr/local/lib/python3.10/dist-packages (from jsonschema->ray[default]>=1.13.0->modin[all]) (0.19.3)\n",
      "Requirement already satisfied: opencensus-context>=0.1.3 in /usr/local/lib/python3.10/dist-packages (from opencensus->ray[default]>=1.13.0->modin[all]) (0.1.3)\n",
      "Requirement already satisfied: google-api-core<3.0.0,>=1.0.0 in /usr/local/lib/python3.10/dist-packages (from opencensus->ray[default]>=1.13.0->modin[all]) (2.11.1)\n",
      "Requirement already satisfied: typing-extensions>=4.2.0 in /usr/local/lib/python3.10/dist-packages (from pydantic->ray[default]>=1.13.0->modin[all]) (4.6.3)\n",
      "Requirement already satisfied: certifi>=2017.4.17 in /usr/local/lib/python3.10/dist-packages (from requests->ray[default]>=1.13.0->modin[all]) (2023.5.7)\n",
      "Requirement already satisfied: idna<4,>=2.5 in /usr/local/lib/python3.10/dist-packages (from requests->ray[default]>=1.13.0->modin[all]) (3.4)\n",
      "Requirement already satisfied: wcwidth>=0.1.4 in /usr/local/lib/python3.10/dist-packages (from blessed>=1.17.1->gpustat>=1.0.0->ray[default]>=1.13.0->modin[all]) (0.2.6)\n",
      "Requirement already satisfied: googleapis-common-protos<2.0.dev0,>=1.56.2 in /usr/local/lib/python3.10/dist-packages (from google-api-core<3.0.0,>=1.0.0->opencensus->ray[default]>=1.13.0->modin[all]) (1.59.1)\n",
      "Requirement already satisfied: google-auth<3.0.dev0,>=2.14.1 in /usr/local/lib/python3.10/dist-packages (from google-api-core<3.0.0,>=1.0.0->opencensus->ray[default]>=1.13.0->modin[all]) (2.17.3)\n",
      "Requirement already satisfied: setuptools>=18.5 in /usr/local/lib/python3.10/dist-packages (from ipython>=4.0.0->ipywidgets>=7.0.0->modin-spreadsheet>=0.1.0->modin[all]) (67.7.2)\n",
      "Requirement already satisfied: jedi>=0.16 in /usr/local/lib/python3.10/dist-packages (from ipython>=4.0.0->ipywidgets>=7.0.0->modin-spreadsheet>=0.1.0->modin[all]) (0.18.2)\n",
      "Requirement already satisfied: decorator in /usr/local/lib/python3.10/dist-packages (from ipython>=4.0.0->ipywidgets>=7.0.0->modin-spreadsheet>=0.1.0->modin[all]) (4.4.2)\n",
      "Requirement already satisfied: pickleshare in /usr/local/lib/python3.10/dist-packages (from ipython>=4.0.0->ipywidgets>=7.0.0->modin-spreadsheet>=0.1.0->modin[all]) (0.7.5)\n",
      "Requirement already satisfied: prompt-toolkit!=3.0.0,!=3.0.1,<3.1.0,>=2.0.0 in /usr/local/lib/python3.10/dist-packages (from ipython>=4.0.0->ipywidgets>=7.0.0->modin-spreadsheet>=0.1.0->modin[all]) (3.0.38)\n",
      "Requirement already satisfied: pygments in /usr/local/lib/python3.10/dist-packages (from ipython>=4.0.0->ipywidgets>=7.0.0->modin-spreadsheet>=0.1.0->modin[all]) (2.14.0)\n",
      "Requirement already satisfied: backcall in /usr/local/lib/python3.10/dist-packages (from ipython>=4.0.0->ipywidgets>=7.0.0->modin-spreadsheet>=0.1.0->modin[all]) (0.2.0)\n",
      "Requirement already satisfied: matplotlib-inline in /usr/local/lib/python3.10/dist-packages (from ipython>=4.0.0->ipywidgets>=7.0.0->modin-spreadsheet>=0.1.0->modin[all]) (0.1.6)\n",
      "Requirement already satisfied: pexpect>4.3 in /usr/local/lib/python3.10/dist-packages (from ipython>=4.0.0->ipywidgets>=7.0.0->modin-spreadsheet>=0.1.0->modin[all]) (4.8.0)\n",
      "Requirement already satisfied: ptyprocess in /usr/local/lib/python3.10/dist-packages (from terminado>=0.8.3->notebook>=6.0.3->modin-spreadsheet>=0.1.0->modin[all]) (0.7.0)\n",
      "Requirement already satisfied: argon2-cffi-bindings in /usr/local/lib/python3.10/dist-packages (from argon2-cffi->notebook>=6.0.3->modin-spreadsheet>=0.1.0->modin[all]) (21.2.0)\n",
      "Requirement already satisfied: lxml in /usr/local/lib/python3.10/dist-packages (from nbconvert->jupyter>=1.0.0->modin-spreadsheet>=0.1.0->modin[all]) (4.9.2)\n",
      "Requirement already satisfied: beautifulsoup4 in /usr/local/lib/python3.10/dist-packages (from nbconvert->jupyter>=1.0.0->modin-spreadsheet>=0.1.0->modin[all]) (4.11.2)\n",
      "Requirement already satisfied: bleach in /usr/local/lib/python3.10/dist-packages (from nbconvert->jupyter>=1.0.0->modin-spreadsheet>=0.1.0->modin[all]) (6.0.0)\n",
      "Requirement already satisfied: defusedxml in /usr/local/lib/python3.10/dist-packages (from nbconvert->jupyter>=1.0.0->modin-spreadsheet>=0.1.0->modin[all]) (0.7.1)\n",
      "Requirement already satisfied: entrypoints>=0.2.2 in /usr/local/lib/python3.10/dist-packages (from nbconvert->jupyter>=1.0.0->modin-spreadsheet>=0.1.0->modin[all]) (0.4)\n",
      "Requirement already satisfied: jupyterlab-pygments in /usr/local/lib/python3.10/dist-packages (from nbconvert->jupyter>=1.0.0->modin-spreadsheet>=0.1.0->modin[all]) (0.2.2)\n",
      "Requirement already satisfied: mistune<2,>=0.8.1 in /usr/local/lib/python3.10/dist-packages (from nbconvert->jupyter>=1.0.0->modin-spreadsheet>=0.1.0->modin[all]) (0.8.4)\n",
      "Requirement already satisfied: nbclient>=0.5.0 in /usr/local/lib/python3.10/dist-packages (from nbconvert->jupyter>=1.0.0->modin-spreadsheet>=0.1.0->modin[all]) (0.8.0)\n",
      "Requirement already satisfied: pandocfilters>=1.4.1 in /usr/local/lib/python3.10/dist-packages (from nbconvert->jupyter>=1.0.0->modin-spreadsheet>=0.1.0->modin[all]) (1.5.0)\n",
      "Requirement already satisfied: tinycss2 in /usr/local/lib/python3.10/dist-packages (from nbconvert->jupyter>=1.0.0->modin-spreadsheet>=0.1.0->modin[all]) (1.2.1)\n",
      "Requirement already satisfied: fastjsonschema in /usr/local/lib/python3.10/dist-packages (from nbformat->notebook>=6.0.3->modin-spreadsheet>=0.1.0->modin[all]) (2.17.1)\n",
      "Requirement already satisfied: qtpy>=2.0.1 in /usr/local/lib/python3.10/dist-packages (from qtconsole->jupyter>=1.0.0->modin-spreadsheet>=0.1.0->modin[all]) (2.3.1)\n",
      "Requirement already satisfied: cachetools<6.0,>=2.0.0 in /usr/local/lib/python3.10/dist-packages (from google-auth<3.0.dev0,>=2.14.1->google-api-core<3.0.0,>=1.0.0->opencensus->ray[default]>=1.13.0->modin[all]) (5.3.1)\n",
      "Requirement already satisfied: pyasn1-modules>=0.2.1 in /usr/local/lib/python3.10/dist-packages (from google-auth<3.0.dev0,>=2.14.1->google-api-core<3.0.0,>=1.0.0->opencensus->ray[default]>=1.13.0->modin[all]) (0.3.0)\n",
      "Requirement already satisfied: rsa<5,>=3.1.4 in /usr/local/lib/python3.10/dist-packages (from google-auth<3.0.dev0,>=2.14.1->google-api-core<3.0.0,>=1.0.0->opencensus->ray[default]>=1.13.0->modin[all]) (4.9)\n",
      "Requirement already satisfied: parso<0.9.0,>=0.8.0 in /usr/local/lib/python3.10/dist-packages (from jedi>=0.16->ipython>=4.0.0->ipywidgets>=7.0.0->modin-spreadsheet>=0.1.0->modin[all]) (0.8.3)\n",
      "Requirement already satisfied: cffi>=1.0.1 in /usr/local/lib/python3.10/dist-packages (from argon2-cffi-bindings->argon2-cffi->notebook>=6.0.3->modin-spreadsheet>=0.1.0->modin[all]) (1.15.1)\n",
      "Requirement already satisfied: soupsieve>1.2 in /usr/local/lib/python3.10/dist-packages (from beautifulsoup4->nbconvert->jupyter>=1.0.0->modin-spreadsheet>=0.1.0->modin[all]) (2.4.1)\n",
      "Requirement already satisfied: webencodings in /usr/local/lib/python3.10/dist-packages (from bleach->nbconvert->jupyter>=1.0.0->modin-spreadsheet>=0.1.0->modin[all]) (0.5.1)\n",
      "Requirement already satisfied: pycparser in /usr/local/lib/python3.10/dist-packages (from cffi>=1.0.1->argon2-cffi-bindings->argon2-cffi->notebook>=6.0.3->modin-spreadsheet>=0.1.0->modin[all]) (2.21)\n",
      "Requirement already satisfied: pyasn1<0.6.0,>=0.4.6 in /usr/local/lib/python3.10/dist-packages (from pyasn1-modules>=0.2.1->google-auth<3.0.dev0,>=2.14.1->google-api-core<3.0.0,>=1.0.0->opencensus->ray[default]>=1.13.0->modin[all]) (0.5.0)\n",
      "Requirement already satisfied: scikit-learn-intelex in /usr/local/lib/python3.10/dist-packages (2023.1.1)\n",
      "Requirement already satisfied: daal4py==2023.1.1 in /usr/local/lib/python3.10/dist-packages (from scikit-learn-intelex) (2023.1.1)\n",
      "Requirement already satisfied: scikit-learn>=0.22 in /usr/local/lib/python3.10/dist-packages (from scikit-learn-intelex) (1.2.2)\n",
      "Requirement already satisfied: daal==2023.1.1 in /usr/local/lib/python3.10/dist-packages (from daal4py==2023.1.1->scikit-learn-intelex) (2023.1.1)\n",
      "Requirement already satisfied: numpy>=1.19 in /usr/local/lib/python3.10/dist-packages (from daal4py==2023.1.1->scikit-learn-intelex) (1.22.4)\n",
      "Requirement already satisfied: tbb==2021.* in /usr/local/lib/python3.10/dist-packages (from daal==2023.1.1->daal4py==2023.1.1->scikit-learn-intelex) (2021.9.0)\n",
      "Requirement already satisfied: scipy>=1.3.2 in /usr/local/lib/python3.10/dist-packages (from scikit-learn>=0.22->scikit-learn-intelex) (1.10.1)\n",
      "Requirement already satisfied: joblib>=1.1.1 in /usr/local/lib/python3.10/dist-packages (from scikit-learn>=0.22->scikit-learn-intelex) (1.2.0)\n",
      "Requirement already satisfied: threadpoolctl>=2.0.0 in /usr/local/lib/python3.10/dist-packages (from scikit-learn>=0.22->scikit-learn-intelex) (3.1.0)\n"
     ]
    },
    {
     "name": "stderr",
     "output_type": "stream",
     "text": [
      "Intel(R) Extension for Scikit-learn* enabled (https://github.com/intel/scikit-learn-intelex)\n"
     ]
    },
    {
     "name": "stdout",
     "output_type": "stream",
     "text": [
      "Mounted at /content/drive\n"
     ]
    }
   ],
   "source": [
    "#Intel Installs and config\n",
    "\n",
    "!pip install langdetect\n",
    "!pip install modin[all]\n",
    "!pip install scikit-learn-intelex\n",
    "from sklearnex import patch_sklearn\n",
    "patch_sklearn()\n",
    "\n",
    "from google.colab import drive\n",
    "drive.mount('/content/drive')"
   ]
  },
  {
   "cell_type": "markdown",
   "metadata": {
    "id": "Krnzzxk-KApp"
   },
   "source": [
    "### Importing necessary libraries for data processing and analysis"
   ]
  },
  {
   "cell_type": "markdown",
   "metadata": {},
   "source": [
    "#### Intel optimization\n",
    "`import modin.pandas as pd` Using modin , intel's replacement for pandas"
   ]
  },
  {
   "cell_type": "code",
   "execution_count": 16,
   "metadata": {
    "id": "0VcmWPZkwSmM"
   },
   "outputs": [],
   "source": [
    "import numpy as np # linear algebra# data processing, CSV file I/O (e.g. pd.read_csv)\n",
    "from statistics import harmonic_mean\n",
    "from langdetect import detect\n",
    "from sklearn.feature_extraction.text import TfidfVectorizer, TfidfTransformer, CountVectorizer\n",
    "from sklearn.preprocessing import MinMaxScaler\n",
    "from sklearn.metrics import f1_score\n",
    "from sklearn.metrics.pairwise import cosine_similarity\n",
    "import modin.pandas as pd\n"
   ]
  },
  {
   "cell_type": "code",
   "execution_count": 17,
   "metadata": {
    "id": "JEVtIU1cxzLI"
   },
   "outputs": [],
   "source": [
    "# Reading the CSV file & store it into modin dataframe\n",
    "df = pd.read_csv(\"coursea_data.csv\")"
   ]
  },
  {
   "cell_type": "code",
   "execution_count": 18,
   "metadata": {
    "id": "WHLOXm-yyXmU"
   },
   "outputs": [],
   "source": [
    "# Dropping unnecessary columns from the DataFrame\n",
    "df.drop(['Unnamed: 0', 'course_organization'], axis=1, inplace=True)"
   ]
  },
  {
   "cell_type": "markdown",
   "metadata": {
    "id": "lzAC5DMWPxM8"
   },
   "source": [
    "\n",
    "Analyzing the distribution of enrollment numbers can Provide valuable insights for understanding user preferences and trends & can help identify popular courses or enrollment pattern."
   ]
  },
  {
   "cell_type": "code",
   "execution_count": 19,
   "metadata": {
    "colab": {
     "base_uri": "https://localhost:8080/"
    },
    "id": "ax27OY0PynS0",
    "outputId": "18e6bb7c-619b-4b4e-da80-e112a38597c6"
   },
   "outputs": [
    {
     "data": {
      "text/plain": [
       "k    887\n",
       "m      4\n",
       "Name: course_students_enrolled, dtype: int64"
      ]
     },
     "execution_count": 19,
     "metadata": {},
     "output_type": "execute_result"
    }
   ],
   "source": [
    "# Counting the distribution of the last digit of the 'course_students_enrolled' column\n",
    "\n",
    "df.course_students_enrolled.apply(lambda count : count[-1]).value_counts()"
   ]
  },
  {
   "cell_type": "code",
   "execution_count": 20,
   "metadata": {
    "id": "KL_YvJzUQVTM"
   },
   "outputs": [],
   "source": [
    "df = df[df.course_students_enrolled.str.endswith('k')]"
   ]
  },
  {
   "cell_type": "code",
   "execution_count": 11,
   "metadata": {
    "colab": {
     "base_uri": "https://localhost:8080/",
     "height": 206
    },
    "id": "vIknofAayq5F",
    "outputId": "fad673d0-2369-4c31-a80b-4ecaebb7dadd"
   },
   "outputs": [
    {
     "data": {
      "text/html": [
       "<div>\n",
       "<style scoped>\n",
       "    .dataframe tbody tr th:only-of-type {\n",
       "        vertical-align: middle;\n",
       "    }\n",
       "\n",
       "    .dataframe tbody tr th {\n",
       "        vertical-align: top;\n",
       "    }\n",
       "\n",
       "    .dataframe thead th {\n",
       "        text-align: right;\n",
       "    }\n",
       "</style>\n",
       "<table border=\"1\" class=\"dataframe\">\n",
       "  <thead>\n",
       "    <tr style=\"text-align: right;\">\n",
       "      <th></th>\n",
       "      <th>course_title</th>\n",
       "      <th>course_Certificate_type</th>\n",
       "      <th>course_rating</th>\n",
       "      <th>course_difficulty</th>\n",
       "      <th>course_students_enrolled</th>\n",
       "    </tr>\n",
       "  </thead>\n",
       "  <tbody>\n",
       "    <tr>\n",
       "      <th>0</th>\n",
       "      <td>(ISC)² Systems Security Certified Practitioner...</td>\n",
       "      <td>SPECIALIZATION</td>\n",
       "      <td>4.7</td>\n",
       "      <td>Beginner</td>\n",
       "      <td>5300.0</td>\n",
       "    </tr>\n",
       "    <tr>\n",
       "      <th>1</th>\n",
       "      <td>A Crash Course in Causality:  Inferring Causal...</td>\n",
       "      <td>COURSE</td>\n",
       "      <td>4.7</td>\n",
       "      <td>Intermediate</td>\n",
       "      <td>17000.0</td>\n",
       "    </tr>\n",
       "    <tr>\n",
       "      <th>2</th>\n",
       "      <td>A Crash Course in Data Science</td>\n",
       "      <td>COURSE</td>\n",
       "      <td>4.5</td>\n",
       "      <td>Mixed</td>\n",
       "      <td>130000.0</td>\n",
       "    </tr>\n",
       "    <tr>\n",
       "      <th>3</th>\n",
       "      <td>A Law Student's Toolkit</td>\n",
       "      <td>COURSE</td>\n",
       "      <td>4.7</td>\n",
       "      <td>Mixed</td>\n",
       "      <td>91000.0</td>\n",
       "    </tr>\n",
       "    <tr>\n",
       "      <th>4</th>\n",
       "      <td>A Life of Happiness and Fulfillment</td>\n",
       "      <td>COURSE</td>\n",
       "      <td>4.8</td>\n",
       "      <td>Mixed</td>\n",
       "      <td>320000.0</td>\n",
       "    </tr>\n",
       "  </tbody>\n",
       "</table>\n",
       "</div>"
      ],
      "text/plain": [
       "                                        course_title course_Certificate_type  \\\n",
       "0  (ISC)² Systems Security Certified Practitioner...          SPECIALIZATION   \n",
       "1  A Crash Course in Causality:  Inferring Causal...                  COURSE   \n",
       "2                     A Crash Course in Data Science                  COURSE   \n",
       "3                            A Law Student's Toolkit                  COURSE   \n",
       "4                A Life of Happiness and Fulfillment                  COURSE   \n",
       "\n",
       "   course_rating course_difficulty  course_students_enrolled  \n",
       "0            4.7          Beginner                    5300.0  \n",
       "1            4.7      Intermediate                   17000.0  \n",
       "2            4.5             Mixed                  130000.0  \n",
       "3            4.7             Mixed                   91000.0  \n",
       "4            4.8             Mixed                  320000.0  "
      ]
     },
     "execution_count": 11,
     "metadata": {},
     "output_type": "execute_result"
    }
   ],
   "source": [
    "df['course_students_enrolled'] = df['course_students_enrolled'].apply(lambda enrolled : eval(enrolled[:-1]) * 1000)\n",
    "df.head()"
   ]
  },
  {
   "cell_type": "markdown",
   "metadata": {
    "id": "owig9SgESPBl"
   },
   "source": [
    " ### The **MinMaxScaler** is a popular data preprocessing technique that scales numerical features to a specified range, typically between 0 and 1.\n",
    "\n",
    " By calculating the minimum and maximum values for each column and scales the corresponding values in the range [0, 1], we ensure that both features contribute proportionally to the recommendation system."
   ]
  },
  {
   "cell_type": "code",
   "execution_count": null,
   "metadata": {
    "id": "S4maMvf7y9wc"
   },
   "outputs": [],
   "source": [
    "minmax_scaler = MinMaxScaler()\n",
    "scaled_ratings = minmax_scaler.fit_transform(df[['course_rating','course_students_enrolled']])"
   ]
  },
  {
   "cell_type": "markdown",
   "metadata": {
    "id": "y5JvqHmYUIJ4"
   },
   "source": [
    "### The **harmonic mean** is used to calculate an overall rating for each course by combining the course rating and the number of students enrolled. It provides a way to consider both factors simultaneously and derive a single measure that represents the combined information in a meaningful manner."
   ]
  },
  {
   "cell_type": "code",
   "execution_count": null,
   "metadata": {
    "id": "gex7J60zytFg"
   },
   "outputs": [],
   "source": [
    "# calculating an overall rating using the harmonic mean of the course rating and number of students enrolled.\n",
    "df['course_rating'] = scaled_ratings[:,0]\n",
    "df['course_students_enrolled'] = scaled_ratings[:,1]\n",
    "df['overall_rating'] = df[['course_rating','course_students_enrolled']].apply(lambda row : harmonic_mean(row), axis=1)"
   ]
  },
  {
   "cell_type": "code",
   "execution_count": null,
   "metadata": {
    "colab": {
     "base_uri": "https://localhost:8080/",
     "height": 206
    },
    "id": "zRHHi_0Vy2jR",
    "outputId": "9796ffd9-81ad-4ecc-9317-68a26c920c57"
   },
   "outputs": [
    {
     "data": {
      "text/html": [
       "<div>\n",
       "<style scoped>\n",
       "    .dataframe tbody tr th:only-of-type {\n",
       "        vertical-align: middle;\n",
       "    }\n",
       "\n",
       "    .dataframe tbody tr th {\n",
       "        vertical-align: top;\n",
       "    }\n",
       "\n",
       "    .dataframe thead th {\n",
       "        text-align: right;\n",
       "    }\n",
       "</style>\n",
       "<table border=\"1\" class=\"dataframe\">\n",
       "  <thead>\n",
       "    <tr style=\"text-align: right;\">\n",
       "      <th></th>\n",
       "      <th>course_title</th>\n",
       "      <th>course_Certificate_type</th>\n",
       "      <th>course_rating</th>\n",
       "      <th>course_difficulty</th>\n",
       "      <th>course_students_enrolled</th>\n",
       "      <th>overall_rating</th>\n",
       "    </tr>\n",
       "  </thead>\n",
       "  <tbody>\n",
       "    <tr>\n",
       "      <th>0</th>\n",
       "      <td>(ISC)² Systems Security Certified Practitioner...</td>\n",
       "      <td>SPECIALIZATION</td>\n",
       "      <td>0.823529</td>\n",
       "      <td>Beginner</td>\n",
       "      <td>0.004587</td>\n",
       "      <td>0.009122</td>\n",
       "    </tr>\n",
       "    <tr>\n",
       "      <th>1</th>\n",
       "      <td>A Crash Course in Causality:  Inferring Causal...</td>\n",
       "      <td>COURSE</td>\n",
       "      <td>0.823529</td>\n",
       "      <td>Intermediate</td>\n",
       "      <td>0.018709</td>\n",
       "      <td>0.036586</td>\n",
       "    </tr>\n",
       "    <tr>\n",
       "      <th>2</th>\n",
       "      <td>A Crash Course in Data Science</td>\n",
       "      <td>COURSE</td>\n",
       "      <td>0.705882</td>\n",
       "      <td>Mixed</td>\n",
       "      <td>0.155100</td>\n",
       "      <td>0.254319</td>\n",
       "    </tr>\n",
       "    <tr>\n",
       "      <th>3</th>\n",
       "      <td>A Law Student's Toolkit</td>\n",
       "      <td>COURSE</td>\n",
       "      <td>0.823529</td>\n",
       "      <td>Mixed</td>\n",
       "      <td>0.108027</td>\n",
       "      <td>0.190999</td>\n",
       "    </tr>\n",
       "    <tr>\n",
       "      <th>4</th>\n",
       "      <td>A Life of Happiness and Fulfillment</td>\n",
       "      <td>COURSE</td>\n",
       "      <td>0.882353</td>\n",
       "      <td>Mixed</td>\n",
       "      <td>0.384430</td>\n",
       "      <td>0.535534</td>\n",
       "    </tr>\n",
       "  </tbody>\n",
       "</table>\n",
       "</div>"
      ],
      "text/plain": [
       "                                        course_title course_Certificate_type  \\\n",
       "0  (ISC)² Systems Security Certified Practitioner...          SPECIALIZATION   \n",
       "1  A Crash Course in Causality:  Inferring Causal...                  COURSE   \n",
       "2                     A Crash Course in Data Science                  COURSE   \n",
       "3                            A Law Student's Toolkit                  COURSE   \n",
       "4                A Life of Happiness and Fulfillment                  COURSE   \n",
       "\n",
       "   course_rating course_difficulty  course_students_enrolled  overall_rating  \n",
       "0       0.823529          Beginner                  0.004587        0.009122  \n",
       "1       0.823529      Intermediate                  0.018709        0.036586  \n",
       "2       0.705882             Mixed                  0.155100        0.254319  \n",
       "3       0.823529             Mixed                  0.108027        0.190999  \n",
       "4       0.882353             Mixed                  0.384430        0.535534  "
      ]
     },
     "execution_count": 12,
     "metadata": {},
     "output_type": "execute_result"
    }
   ],
   "source": [
    "df.head()"
   ]
  },
  {
   "cell_type": "code",
   "execution_count": null,
   "metadata": {
    "id": "q5_geztSzCsO"
   },
   "outputs": [],
   "source": [
    "df = df[df.course_title.apply(lambda title : detect(title) == 'en')]"
   ]
  },
  {
   "cell_type": "markdown",
   "metadata": {
    "id": "LNNkwf7jUkzi"
   },
   "source": [
    "**Term Frequency-Inverse Document Frequency (TF-IDF)**\n",
    "\n",
    "**A class from the sklearn.feature_extraction.text module.**\n",
    "\n",
    "It is popular technique used in natural language processing to represent text data numerically.\n",
    "\n",
    "By vectorizing the course titles using TF-IDF, we can transform the textual data into a numerical representation that machine learning algorithms can work with. This allows us to calculate similarity measures between courses, identify important keywords, and incorporate text-based features."
   ]
  },
  {
   "cell_type": "code",
   "execution_count": null,
   "metadata": {
    "id": "-ZCAkStO0Jyg"
   },
   "outputs": [],
   "source": [
    "vectorizer = TfidfVectorizer(stop_words='english')\n",
    "vectors = vectorizer.fit_transform(df.course_title)"
   ]
  },
  {
   "cell_type": "markdown",
   "metadata": {
    "id": "OH2GvRnFVdNM"
   },
   "source": [
    "By computing the **cosine similarity (function from the pairwise module within the sklearn.metrics module in scikit-learn).**, we obtain a similarity score for each course in the dataset compared to the input course title.\n",
    "\n",
    "This allows us to identify courses that are most similar to the input course title, which is a crucial step in generating relevant recommendations.\n"
   ]
  },
  {
   "cell_type": "code",
   "execution_count": null,
   "metadata": {
    "id": "GJPRhbG20L0Y"
   },
   "outputs": [],
   "source": [
    "# recommend function will help us to recommend the books based on the title we have given\n",
    "\n",
    "def recommend_by_course_title (title, recomm_count=10) :\n",
    "    title_vector = vectorizer.transform([title])\n",
    "    cosine_sim = cosine_similarity(vectors, title_vector)\n",
    "    idx = np.argsort(np.array(cosine_sim[:,0]))[-recomm_count:]\n",
    "    sdf = df.iloc[idx].sort_values(by='overall_rating', ascending=False)\n",
    "    return sdf"
   ]
  },
  {
   "cell_type": "markdown",
   "metadata": {
    "id": "A_tn2wvTWj_D"
   },
   "source": [
    "**Function call**\n",
    "\n",
    "### Takes course title as an input parameter and returns a list of recommended courses that are relevant to the provided title."
   ]
  },
  {
   "cell_type": "code",
   "execution_count": null,
   "metadata": {
    "colab": {
     "base_uri": "https://localhost:8080/",
     "height": 363
    },
    "id": "p57dNvn90QmM",
    "outputId": "e490e78d-220b-4952-b1a6-2c4eaee0a858"
   },
   "outputs": [
    {
     "data": {
      "text/html": [
       "<div>\n",
       "<style scoped>\n",
       "    .dataframe tbody tr th:only-of-type {\n",
       "        vertical-align: middle;\n",
       "    }\n",
       "\n",
       "    .dataframe tbody tr th {\n",
       "        vertical-align: top;\n",
       "    }\n",
       "\n",
       "    .dataframe thead th {\n",
       "        text-align: right;\n",
       "    }\n",
       "</style>\n",
       "<table border=\"1\" class=\"dataframe\">\n",
       "  <thead>\n",
       "    <tr style=\"text-align: right;\">\n",
       "      <th></th>\n",
       "      <th>course_title</th>\n",
       "      <th>course_Certificate_type</th>\n",
       "      <th>course_rating</th>\n",
       "      <th>course_difficulty</th>\n",
       "      <th>course_students_enrolled</th>\n",
       "      <th>overall_rating</th>\n",
       "    </tr>\n",
       "  </thead>\n",
       "  <tbody>\n",
       "    <tr>\n",
       "      <th>684</th>\n",
       "      <td>Python Data Structures</td>\n",
       "      <td>COURSE</td>\n",
       "      <td>0.941176</td>\n",
       "      <td>Mixed</td>\n",
       "      <td>0.505130</td>\n",
       "      <td>0.657421</td>\n",
       "    </tr>\n",
       "    <tr>\n",
       "      <th>487</th>\n",
       "      <td>Introduction to Data Science in Python</td>\n",
       "      <td>COURSE</td>\n",
       "      <td>0.705882</td>\n",
       "      <td>Intermediate</td>\n",
       "      <td>0.468920</td>\n",
       "      <td>0.563503</td>\n",
       "    </tr>\n",
       "    <tr>\n",
       "      <th>687</th>\n",
       "      <td>Python for Data Science and AI</td>\n",
       "      <td>COURSE</td>\n",
       "      <td>0.764706</td>\n",
       "      <td>Beginner</td>\n",
       "      <td>0.203380</td>\n",
       "      <td>0.321305</td>\n",
       "    </tr>\n",
       "    <tr>\n",
       "      <th>570</th>\n",
       "      <td>Machine Learning with Python</td>\n",
       "      <td>COURSE</td>\n",
       "      <td>0.823529</td>\n",
       "      <td>Intermediate</td>\n",
       "      <td>0.143030</td>\n",
       "      <td>0.243729</td>\n",
       "    </tr>\n",
       "    <tr>\n",
       "      <th>682</th>\n",
       "      <td>Python Basics</td>\n",
       "      <td>COURSE</td>\n",
       "      <td>0.882353</td>\n",
       "      <td>Beginner</td>\n",
       "      <td>0.130960</td>\n",
       "      <td>0.228069</td>\n",
       "    </tr>\n",
       "    <tr>\n",
       "      <th>188</th>\n",
       "      <td>Data Analysis with Python</td>\n",
       "      <td>COURSE</td>\n",
       "      <td>0.823529</td>\n",
       "      <td>Beginner</td>\n",
       "      <td>0.130960</td>\n",
       "      <td>0.225983</td>\n",
       "    </tr>\n",
       "    <tr>\n",
       "      <th>391</th>\n",
       "      <td>Google IT Automation with Python</td>\n",
       "      <td>PROFESSIONAL CERTIFICATE</td>\n",
       "      <td>0.823529</td>\n",
       "      <td>Beginner</td>\n",
       "      <td>0.110441</td>\n",
       "      <td>0.194762</td>\n",
       "    </tr>\n",
       "    <tr>\n",
       "      <th>203</th>\n",
       "      <td>Data Visualization with Python</td>\n",
       "      <td>COURSE</td>\n",
       "      <td>0.764706</td>\n",
       "      <td>Intermediate</td>\n",
       "      <td>0.077852</td>\n",
       "      <td>0.141316</td>\n",
       "    </tr>\n",
       "    <tr>\n",
       "      <th>513</th>\n",
       "      <td>Introduction to Scripting in Python</td>\n",
       "      <td>SPECIALIZATION</td>\n",
       "      <td>0.823529</td>\n",
       "      <td>Beginner</td>\n",
       "      <td>0.057333</td>\n",
       "      <td>0.107202</td>\n",
       "    </tr>\n",
       "    <tr>\n",
       "      <th>752</th>\n",
       "      <td>Statistics with Python</td>\n",
       "      <td>SPECIALIZATION</td>\n",
       "      <td>0.764706</td>\n",
       "      <td>Beginner</td>\n",
       "      <td>0.039228</td>\n",
       "      <td>0.074627</td>\n",
       "    </tr>\n",
       "  </tbody>\n",
       "</table>\n",
       "</div>"
      ],
      "text/plain": [
       "                               course_title   course_Certificate_type  \\\n",
       "684                  Python Data Structures                    COURSE   \n",
       "487  Introduction to Data Science in Python                    COURSE   \n",
       "687          Python for Data Science and AI                    COURSE   \n",
       "570            Machine Learning with Python                    COURSE   \n",
       "682                           Python Basics                    COURSE   \n",
       "188               Data Analysis with Python                    COURSE   \n",
       "391        Google IT Automation with Python  PROFESSIONAL CERTIFICATE   \n",
       "203          Data Visualization with Python                    COURSE   \n",
       "513     Introduction to Scripting in Python            SPECIALIZATION   \n",
       "752                  Statistics with Python            SPECIALIZATION   \n",
       "\n",
       "     course_rating course_difficulty  course_students_enrolled  overall_rating  \n",
       "684       0.941176             Mixed                  0.505130        0.657421  \n",
       "487       0.705882      Intermediate                  0.468920        0.563503  \n",
       "687       0.764706          Beginner                  0.203380        0.321305  \n",
       "570       0.823529      Intermediate                  0.143030        0.243729  \n",
       "682       0.882353          Beginner                  0.130960        0.228069  \n",
       "188       0.823529          Beginner                  0.130960        0.225983  \n",
       "391       0.823529          Beginner                  0.110441        0.194762  \n",
       "203       0.764706      Intermediate                  0.077852        0.141316  \n",
       "513       0.823529          Beginner                  0.057333        0.107202  \n",
       "752       0.764706          Beginner                  0.039228        0.074627  "
      ]
     },
     "execution_count": 18,
     "metadata": {},
     "output_type": "execute_result"
    }
   ],
   "source": [
    "#search for anything like python or you need a Machine learning course etc etc\n",
    "recommend_by_course_title('python')"
   ]
  },
  {
   "cell_type": "code",
   "execution_count": null,
   "metadata": {
    "id": "w5CZ09vZ0Tds"
   },
   "outputs": [],
   "source": []
  }
 ],
 "metadata": {
  "colab": {
   "provenance": []
  },
  "kernelspec": {
   "display_name": "Python 3 (ipykernel)",
   "language": "python",
   "name": "python3"
  },
  "language_info": {
   "codemirror_mode": {
    "name": "ipython",
    "version": 3
   },
   "file_extension": ".py",
   "mimetype": "text/x-python",
   "name": "python",
   "nbconvert_exporter": "python",
   "pygments_lexer": "ipython3",
   "version": "3.10.11"
  }
 },
 "nbformat": 4,
 "nbformat_minor": 1
}
